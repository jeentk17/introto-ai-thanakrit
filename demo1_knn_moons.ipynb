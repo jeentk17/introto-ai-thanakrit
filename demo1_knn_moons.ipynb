{
 "cells": [
  {
   "cell_type": "markdown",
   "id": "4b6ca852",
   "metadata": {},
   "source": [
    "# k-NN Classification on Synthetic Moons Dataset\n",
    "\n"
   ]
  },
  {
   "cell_type": "markdown",
   "id": "25bd0bf2",
   "metadata": {},
   "source": [
    "git hub link https://github.com/jeentk17/introto-ai-thanakrit"
   ]
  },
  {
   "cell_type": "markdown",
   "id": "c1794fcd",
   "metadata": {},
   "source": [
    "## Problem & Representation\n",
    "\n",
    "**Goal:** Given a new 2D point, predict which moon (class 0 or class 1) it belongs to.\n",
    "\n",
    "**Data:** Two interleaving moons generated via `sklearn.datasets.make_moons(n_samples=500, noise=0.25, random_state=42)`.\n",
    "\n",
    "**Representation passed to the algorithm:**\n",
    "- **Features** `X`: shape (n_samples, 2) → columns are `(x1, x2)` coordinates.\n",
    "- **Labels** `y`: shape (n_samples,) with values `{0, 1}`.\n",
    "\n",
    "**Why scaling?** k-NN uses distances; `StandardScaler` puts features on comparable scales for fair distance computation.\n"
   ]
  },
  {
   "cell_type": "markdown",
   "id": "3e13ca66",
   "metadata": {},
   "source": [
    "## 1. Import Libraries & Setup Output Folder"
   ]
  },
  {
   "cell_type": "code",
   "execution_count": 1,
   "id": "f8dabc15",
   "metadata": {},
   "outputs": [
    {
     "name": "stdout",
     "output_type": "stream",
     "text": [
      "Saving to: c:\\Users\\Jeen\\Desktop\\introai\\introai1\\introai1\n"
     ]
    }
   ],
   "source": [
    "import os\n",
    "import numpy as np\n",
    "import matplotlib.pyplot as plt\n",
    "from sklearn.datasets import make_moons\n",
    "from sklearn.model_selection import train_test_split, cross_val_score\n",
    "from sklearn.preprocessing import StandardScaler\n",
    "from sklearn.pipeline import Pipeline\n",
    "from sklearn.neighbors import KNeighborsClassifier\n",
    "from sklearn.metrics import accuracy_score, confusion_matrix, classification_report\n",
    "\n",
    "SCRIPT_DIR = os.getcwd()\n",
    "OUT_DIR = os.path.join(SCRIPT_DIR, \"introai1\")\n",
    "os.makedirs(OUT_DIR, exist_ok=True)\n",
    "print(\"Saving to:\", OUT_DIR)"
   ]
  },
  {
   "cell_type": "markdown",
   "id": "ec890f28",
   "metadata": {},
   "source": [
    "## 2. Generate Synthetic Moons Dataset & Split"
   ]
  },
  {
   "cell_type": "code",
   "execution_count": null,
   "id": "aa07b6f8",
   "metadata": {},
   "outputs": [],
   "source": [
    "# Step 1: Generate dataset\n",
    "# make_moons creates a synthetic 2D dataset shaped like two moons.\n",
    "# Inputs: n_samples=500, noise=0.25 to make the dataset less trivial.\n",
    "# Outputs: X (features), y (labels: 0 or 1)\n",
    "X, y = make_moons(n_samples=500, noise=0.25, random_state=42)\n",
    "\n",
    "# Split dataset into training and testing sets (75% train, 25% test)\n",
    "X_train, X_test, y_train, y_test = train_test_split(\n",
    "    X, y, test_size=0.25, random_state=42, stratify=y\n",
    ")"
   ]
  },
  {
   "cell_type": "markdown",
   "id": "7af4d326",
   "metadata": {},
   "source": [
    "## 3. Visualize Dataset"
   ]
  },
  {
   "cell_type": "code",
   "execution_count": null,
   "id": "e8b789c1",
   "metadata": {},
   "outputs": [],
   "source": [
    "# Step 2: Visualize dataset \n",
    "plt.figure(figsize=(6, 5))\n",
    "plt.scatter(X[:, 0], X[:, 1], s=15)\n",
    "plt.title(\"Dataset: Two Interleaving Moons\")\n",
    "plt.xlabel(\"x1\")\n",
    "plt.ylabel(\"x2\")\n",
    "plt.tight_layout()\n",
    "plt.savefig(os.path.join(OUT_DIR, \"dataset.png\"), dpi=160)\n",
    "plt.close()"
   ]
  },
  {
   "cell_type": "markdown",
   "id": "2c2e7434",
   "metadata": {},
   "source": [
    "## 4. Model Selection: Cross-Validation over k"
   ]
  },
  {
   "cell_type": "code",
   "execution_count": null,
   "id": "4192f6f2",
   "metadata": {},
   "outputs": [],
   "source": [
    "# --- Step 3: Model selection (tuning k)\n",
    "# To find the best value of k, we perform cross-validation.\n",
    "# For each candidate k (number of neighbors), we:\n",
    "# 1. Build a pipeline with scaling + k-NN.\n",
    "# 2. Run 5-fold cross-validation on the training set.\n",
    "# 3. Compute average accuracy.\n",
    "# Finally, we select the k with the highest mean CV score.\n",
    "k_values = [1, 3, 5, 7, 9, 11, 13, 15]\n",
    "cv_scores = []\n",
    "for k in k_values:\n",
    "    pipe = Pipeline([\n",
    "        (\"scaler\", StandardScaler()),\n",
    "        (\"knn\", KNeighborsClassifier(n_neighbors=k))\n",
    "    ])\n",
    "    scores = cross_val_score(pipe, X_train, y_train, cv=5, scoring=\"accuracy\")\n",
    "    cv_scores.append(scores.mean())\n",
    "\n",
    "# Identify best k based on CV performance\n",
    "best_idx = int(np.argmax(cv_scores))\n",
    "best_k = k_values[best_idx]\n",
    "\n",
    "plt.figure(figsize=(6, 5))\n",
    "plt.plot(k_values, cv_scores, marker=\"o\")\n",
    "plt.title(\"Model Selection: CV Accuracy vs k\")\n",
    "plt.xlabel(\"k (neighbors)\")\n",
    "plt.ylabel(\"Cross-validated Accuracy\")\n",
    "plt.grid(True, linewidth=0.4)\n",
    "plt.tight_layout()\n",
    "plt.savefig(os.path.join(OUT_DIR, \"model_selection.png\"), dpi=160)\n",
    "plt.close()"
   ]
  },
  {
   "cell_type": "markdown",
   "id": "69666b6a",
   "metadata": {},
   "source": [
    "## 5. Train k-NN Model with Best k"
   ]
  },
  {
   "cell_type": "code",
   "execution_count": null,
   "id": "5bf4f8e8",
   "metadata": {},
   "outputs": [
    {
     "data": {
      "text/html": [
       "<style>#sk-container-id-1 {color: black;}#sk-container-id-1 pre{padding: 0;}#sk-container-id-1 div.sk-toggleable {background-color: white;}#sk-container-id-1 label.sk-toggleable__label {cursor: pointer;display: block;width: 100%;margin-bottom: 0;padding: 0.3em;box-sizing: border-box;text-align: center;}#sk-container-id-1 label.sk-toggleable__label-arrow:before {content: \"▸\";float: left;margin-right: 0.25em;color: #696969;}#sk-container-id-1 label.sk-toggleable__label-arrow:hover:before {color: black;}#sk-container-id-1 div.sk-estimator:hover label.sk-toggleable__label-arrow:before {color: black;}#sk-container-id-1 div.sk-toggleable__content {max-height: 0;max-width: 0;overflow: hidden;text-align: left;background-color: #f0f8ff;}#sk-container-id-1 div.sk-toggleable__content pre {margin: 0.2em;color: black;border-radius: 0.25em;background-color: #f0f8ff;}#sk-container-id-1 input.sk-toggleable__control:checked~div.sk-toggleable__content {max-height: 200px;max-width: 100%;overflow: auto;}#sk-container-id-1 input.sk-toggleable__control:checked~label.sk-toggleable__label-arrow:before {content: \"▾\";}#sk-container-id-1 div.sk-estimator input.sk-toggleable__control:checked~label.sk-toggleable__label {background-color: #d4ebff;}#sk-container-id-1 div.sk-label input.sk-toggleable__control:checked~label.sk-toggleable__label {background-color: #d4ebff;}#sk-container-id-1 input.sk-hidden--visually {border: 0;clip: rect(1px 1px 1px 1px);clip: rect(1px, 1px, 1px, 1px);height: 1px;margin: -1px;overflow: hidden;padding: 0;position: absolute;width: 1px;}#sk-container-id-1 div.sk-estimator {font-family: monospace;background-color: #f0f8ff;border: 1px dotted black;border-radius: 0.25em;box-sizing: border-box;margin-bottom: 0.5em;}#sk-container-id-1 div.sk-estimator:hover {background-color: #d4ebff;}#sk-container-id-1 div.sk-parallel-item::after {content: \"\";width: 100%;border-bottom: 1px solid gray;flex-grow: 1;}#sk-container-id-1 div.sk-label:hover label.sk-toggleable__label {background-color: #d4ebff;}#sk-container-id-1 div.sk-serial::before {content: \"\";position: absolute;border-left: 1px solid gray;box-sizing: border-box;top: 0;bottom: 0;left: 50%;z-index: 0;}#sk-container-id-1 div.sk-serial {display: flex;flex-direction: column;align-items: center;background-color: white;padding-right: 0.2em;padding-left: 0.2em;position: relative;}#sk-container-id-1 div.sk-item {position: relative;z-index: 1;}#sk-container-id-1 div.sk-parallel {display: flex;align-items: stretch;justify-content: center;background-color: white;position: relative;}#sk-container-id-1 div.sk-item::before, #sk-container-id-1 div.sk-parallel-item::before {content: \"\";position: absolute;border-left: 1px solid gray;box-sizing: border-box;top: 0;bottom: 0;left: 50%;z-index: -1;}#sk-container-id-1 div.sk-parallel-item {display: flex;flex-direction: column;z-index: 1;position: relative;background-color: white;}#sk-container-id-1 div.sk-parallel-item:first-child::after {align-self: flex-end;width: 50%;}#sk-container-id-1 div.sk-parallel-item:last-child::after {align-self: flex-start;width: 50%;}#sk-container-id-1 div.sk-parallel-item:only-child::after {width: 0;}#sk-container-id-1 div.sk-dashed-wrapped {border: 1px dashed gray;margin: 0 0.4em 0.5em 0.4em;box-sizing: border-box;padding-bottom: 0.4em;background-color: white;}#sk-container-id-1 div.sk-label label {font-family: monospace;font-weight: bold;display: inline-block;line-height: 1.2em;}#sk-container-id-1 div.sk-label-container {text-align: center;}#sk-container-id-1 div.sk-container {/* jupyter's `normalize.less` sets `[hidden] { display: none; }` but bootstrap.min.css set `[hidden] { display: none !important; }` so we also need the `!important` here to be able to override the default hidden behavior on the sphinx rendered scikit-learn.org. See: https://github.com/scikit-learn/scikit-learn/issues/21755 */display: inline-block !important;position: relative;}#sk-container-id-1 div.sk-text-repr-fallback {display: none;}</style><div id=\"sk-container-id-1\" class=\"sk-top-container\"><div class=\"sk-text-repr-fallback\"><pre>Pipeline(steps=[(&#x27;scaler&#x27;, StandardScaler()), (&#x27;knn&#x27;, KNeighborsClassifier())])</pre><b>In a Jupyter environment, please rerun this cell to show the HTML representation or trust the notebook. <br />On GitHub, the HTML representation is unable to render, please try loading this page with nbviewer.org.</b></div><div class=\"sk-container\" hidden><div class=\"sk-item sk-dashed-wrapped\"><div class=\"sk-label-container\"><div class=\"sk-label sk-toggleable\"><input class=\"sk-toggleable__control sk-hidden--visually\" id=\"sk-estimator-id-1\" type=\"checkbox\" ><label for=\"sk-estimator-id-1\" class=\"sk-toggleable__label sk-toggleable__label-arrow\">Pipeline</label><div class=\"sk-toggleable__content\"><pre>Pipeline(steps=[(&#x27;scaler&#x27;, StandardScaler()), (&#x27;knn&#x27;, KNeighborsClassifier())])</pre></div></div></div><div class=\"sk-serial\"><div class=\"sk-item\"><div class=\"sk-estimator sk-toggleable\"><input class=\"sk-toggleable__control sk-hidden--visually\" id=\"sk-estimator-id-2\" type=\"checkbox\" ><label for=\"sk-estimator-id-2\" class=\"sk-toggleable__label sk-toggleable__label-arrow\">StandardScaler</label><div class=\"sk-toggleable__content\"><pre>StandardScaler()</pre></div></div></div><div class=\"sk-item\"><div class=\"sk-estimator sk-toggleable\"><input class=\"sk-toggleable__control sk-hidden--visually\" id=\"sk-estimator-id-3\" type=\"checkbox\" ><label for=\"sk-estimator-id-3\" class=\"sk-toggleable__label sk-toggleable__label-arrow\">KNeighborsClassifier</label><div class=\"sk-toggleable__content\"><pre>KNeighborsClassifier()</pre></div></div></div></div></div></div></div>"
      ],
      "text/plain": [
       "Pipeline(steps=[('scaler', StandardScaler()), ('knn', KNeighborsClassifier())])"
      ]
     },
     "execution_count": 5,
     "metadata": {},
     "output_type": "execute_result"
    }
   ],
   "source": [
    "# Step 4: Fit best model, evaluate, visualize, and save outputs\n",
    "# We now instantiate a fresh Pipeline using the best k selected by cross-validation.\n",
    "# The pipeline has two stages:\n",
    "# (1) StandardScaler: standardizes features to zero-mean/unit-variance (crucial for distance-based k-NN).\n",
    "# (2) KNeighborsClassifier: k-NN classifier using the tuned number of neighbors (best_k).\n",
    "# Note: \"Training\" for k-NN means storing the (scaled) training data; there is\n",
    "best_pipe = Pipeline([\n",
    "    (\"scaler\", StandardScaler()),\n",
    "    (\"knn\", KNeighborsClassifier(n_neighbors=best_k))\n",
    "])\n",
    "\n",
    "# Fit the pipeline on the training data\n",
    "best_pipe.fit(X_train, y_train)"
   ]
  },
  {
   "cell_type": "markdown",
   "id": "3dcffafc",
   "metadata": {},
   "source": [
    "## 6. Evaluate Model Performance"
   ]
  },
  {
   "cell_type": "code",
   "execution_count": null,
   "id": "766d5a4b",
   "metadata": {},
   "outputs": [],
   "source": [
    "# Predictions & basic metrics\n",
    "# Compute predictions on the held-out test set, then evaluate with accuracy and\n",
    "y_pred = best_pipe.predict(X_test)\n",
    "acc = accuracy_score(y_test, y_pred)\n",
    "cm = confusion_matrix(y_test, y_pred)"
   ]
  },
  {
   "cell_type": "markdown",
   "id": "014a6f71",
   "metadata": {},
   "source": [
    "## 7. Plot Decision Boundary"
   ]
  },
  {
   "cell_type": "code",
   "execution_count": null,
   "id": "cfe0a562",
   "metadata": {},
   "outputs": [],
   "source": [
    "# Decision boundary visualization \n",
    "x_min, x_max = X[:, 0].min() - 0.5, X[:, 0].max() + 0.5\n",
    "y_min, y_max = X[:, 1].min() - 0.5, X[:, 1].max() + 0.5\n",
    "xx, yy = np.meshgrid(\n",
    "    np.linspace(x_min, x_max, 500),\n",
    "    np.linspace(y_min, y_max, 500)\n",
    ")\n",
    "# Stack grid coordinates into (N, 2) so the pipeline can predict on them.\n",
    "grid = np.c_[xx.ravel(), yy.ravel()]\n",
    "Z = best_pipe.predict(grid).reshape(xx.shape)\n",
    "\n",
    "plt.figure(figsize=(6, 5))\n",
    "plt.contourf(xx, yy, Z, alpha=0.25)\n",
    "plt.scatter(X_test[:, 0], X_test[:, 1], c=y_test, s=15)\n",
    "plt.title(f\"Decision Boundary (k={best_k})\")\n",
    "plt.xlabel(\"x1\")\n",
    "plt.ylabel(\"x2\")\n",
    "plt.tight_layout()\n",
    "plt.savefig(os.path.join(OUT_DIR, \"decision_boundary.png\"), dpi=160)\n",
    "plt.close()"
   ]
  },
  {
   "cell_type": "markdown",
   "id": "fbc26c01",
   "metadata": {},
   "source": [
    "## 8. Plot Confusion Matrix"
   ]
  },
  {
   "cell_type": "code",
   "execution_count": 8,
   "id": "d7ef71d3",
   "metadata": {},
   "outputs": [],
   "source": [
    "plt.figure(figsize=(5.8, 5.2))\n",
    "im = plt.imshow(cm, interpolation='nearest')\n",
    "plt.title(\"Confusion Matrix\")\n",
    "plt.xlabel(\"Predicted label\")\n",
    "plt.ylabel(\"True label\")\n",
    "for (i, j), v in np.ndenumerate(cm):\n",
    "    plt.text(j, i, str(v), ha='center', va='center')\n",
    "plt.tight_layout()\n",
    "plt.savefig(os.path.join(OUT_DIR, \"confusion_matrix.png\"), dpi=160)\n",
    "plt.close()"
   ]
  },
  {
   "cell_type": "markdown",
   "id": "860bf402",
   "metadata": {},
   "source": [
    "## 9. Display Classification Report and Summary"
   ]
  },
  {
   "cell_type": "code",
   "execution_count": 9,
   "id": "542b68bb",
   "metadata": {},
   "outputs": [
    {
     "name": "stdout",
     "output_type": "stream",
     "text": [
      "Best k: 5\n",
      "Test Accuracy: 0.944\n",
      "\n",
      "Classification Report:\n",
      "              precision    recall  f1-score   support\n",
      "\n",
      "           0       0.94      0.95      0.94        63\n",
      "           1       0.95      0.94      0.94        62\n",
      "\n",
      "    accuracy                           0.94       125\n",
      "   macro avg       0.94      0.94      0.94       125\n",
      "weighted avg       0.94      0.94      0.94       125\n",
      "\n"
     ]
    }
   ],
   "source": [
    "summary = f\"\"\"Best k: {best_k}\\nTest Accuracy: {acc:.3f}\\n\\nClassification Report:\\n{classification_report(y_test, y_pred)}\"\"\"\n",
    "print(summary)\n",
    "with open(os.path.join(OUT_DIR, \"results.txt\"), \"w\", encoding=\"utf-8\") as f:\n",
    "    f.write(summary)"
   ]
  }
 ],
 "metadata": {
  "kernelspec": {
   "display_name": "Python 3",
   "language": "python",
   "name": "python3"
  },
  "language_info": {
   "codemirror_mode": {
    "name": "ipython",
    "version": 3
   },
   "file_extension": ".py",
   "mimetype": "text/x-python",
   "name": "python",
   "nbconvert_exporter": "python",
   "pygments_lexer": "ipython3",
   "version": "3.10.11"
  }
 },
 "nbformat": 4,
 "nbformat_minor": 5
}
